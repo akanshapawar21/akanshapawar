{
  "nbformat": 4,
  "nbformat_minor": 0,
  "metadata": {
    "colab": {
      "provenance": [],
      "authorship_tag": "ABX9TyOp0P3chURLPHkszL7bZwkg",
      "include_colab_link": true
    },
    "kernelspec": {
      "name": "python3",
      "display_name": "Python 3"
    },
    "language_info": {
      "name": "python"
    }
  },
  "cells": [
    {
      "cell_type": "markdown",
      "metadata": {
        "id": "view-in-github",
        "colab_type": "text"
      },
      "source": [
        "<a href=\"https://colab.research.google.com/github/akanshapawar21/akanshapawar/blob/main/Project_Report.ipynb\" target=\"_parent\"><img src=\"https://colab.research.google.com/assets/colab-badge.svg\" alt=\"Open In Colab\"/></a>"
      ]
    },
    {
      "cell_type": "markdown",
      "source": [
        "**PROJECT REPORT**\n",
        "\n",
        "***INTRODUCTION***\n",
        "\n",
        "Deep learning is a subfield of machine learning that emphasizes on algorithms inspired by the structure and function of the brain's neural networks. It includes training artificial neural networks (ANNs) with large amounts of data to learn and make decisions independently. Deep learning has evolved various fields such as computer vision, natural language processing, and speech recognition, achieving state-of-the-art results in tasks like image classification, language translation, and autonomous driving. Its applications span across industries, including healthcare, finance, and entertainment, making it a pivotal technology in the era of artificial intelligence. Deep learning is a branch of artificial intelligence and machine learning that structures high-level abstractions in data through deep neural networks. Influenced by the human brain's structure and function, deep learning algorithms are premeditated to learn from large amounts of labeled or unlabeled data. These algorithms have demonstrated exceptional success in various tasks such as image and speech recognition, natural language processing, and reinforcement learning. Deep learning has significantly improved fields like computer vision, healthcare diagnostics, autonomous vehicles, and more, making it a foundation of modern AI applications.\n",
        "\n",
        "SOME BASIC CONCEPT :-\n",
        "One of the key concepts in deep learning is the use of neural networks with multiple layers. This grants the model to learn hierarchical representations of data. Key aspects Include: the raw data.\n",
        "\n",
        "Neural Networks: ● Structure: Neural networks are composed of layers of nodes (neurons) organized in a hierarchical manner. Each neuron is connected to neurons in the adjoining layers. ● Functionality: These networks are inspired by the human brain's neural structure, where neurons communicate through synapses. Similarly, in artificial neural networks, nodes in one layer transfer information (weighted inputs) to nodes in the upcoming layer, eventually givinging an output.\n",
        "Layered Architecture: ● Input Layer: Receives input data and passes it on to the next layer. ● Hidden Layers: Intermediate layers between the input and output layers where the actual computation occurs. Each layer typically consists of multiple neurons that apply transformations to the input data. ● Output Layer: Produces the final output of the network based on the computations performed in the hidden layers.\n",
        "Feature Learning: ● Hierarchical Feature Extraction: Deep networks learn hierarchical representations of data. Lower layers detect simple features (e.g., edges, textures) from raw input data. ● Abstraction: Higher layers combine these simple features into more abstract representations (e.g., shapes, objects, semantic concepts). This hierarchical process allows the network to learn increasingly complex and meaningful features.\n",
        "Representation Learning: ● Feature Extraction Automation: Traditional machine learning often requires manual feature engineering, where domain knowledge is used to extract relevant features from data. In contrast, deep learning models automatically learn relevant features or representations directly from\n",
        "● Adaptability: This ability to automatically learn features makes deep learning models highly adaptable to different types of data and tasks, potentially reducing the dependency on domain-specific feature engineering. 5. Training with Backpropagation: ● Error Optimization: Backpropagation is a key algorithm used to train neural networks. It works by calculating the gradient of the loss function with respect to each weight in the network. ● Gradient Descent: Based on these gradients, the weights are adjusted in the direction that minimizes the error (loss) of the network's predictions. ● Iterations: Training involves iteratively passing data through the network, calculating errors, and adjusting weights to improve the network's ability to make accurate predictions over time. 6. Applications: ● Image and Speech Recognition: Deep learning has revolutionized image and speech recognition tasks, achieving human-level performance in many cases. ● Natural Language Processing (NLP): Deep learning models like transformers have significantly advanced the field of NLP, enabling tasks such as language translation, sentiment analysis, and text generation. ● Reinforcement Learning: Deep reinforcement learning combines deep learning with reinforcement learning principles to enable machines to learn complex behaviors through interaction with environments.\n",
        "\n",
        "Convolution Neural Network(CNNs):\n",
        "● Introduction to Convolution Neural Network: A Convolutional Neural Network (CNN) is a type of Deep Learning neural network architecture frequently used in Computer Vision. Computer vision is a field of Artificial Intelligence that enables a computer to understand and interpret the image or visual data. When it comes to Machine Learning, Artificial Neural Networks perform really well. Neural Networks are used in different datasets like images, audio, and text. Various types of Neural Networks are used for various purposes, for example for predicting the sequence of words we use Recurrent Neural Networks more precisely an LSTM, similarly for image classification we use Convolution Neural networks. In this blog, we are going to build a basic building block for CNN.\n",
        "\n",
        "● In a regular Neural Network there are three types of layers: the previous layer with learnable weights of that layer and then by the\n",
        "\n",
        "Input Layers: It’s the layer in which we give input to our model. The number of neurons in this layer is equal to the total number of features in our data (number of pixels in the case of an image).\n",
        "Hidden Layer: The input from the Input layer is then fed into the hidden layer. There can be many hidden layers depending on our model and data size. Each hidden layer can have different numbers of neurons which are generally greater than the number of features. The output from each layer is computed by matrix multiplication of the output of\n",
        "addition of learnable biases followed by activation function which makes the network nonlinear. 3. Output Layer: The output from the hidden layer is then fed into a logistic function like sigmoid or softmax which converts the output of each class into the probability score of each class. Now let’s talk about a bit of mathematics that is involved in the whole convolution process. Convolution layers consist of a set of learnable filters (or kernels) having small widths and heights and the same depth as that of input volume (3 if the input layer is image input). For example, if we have to run convolution on an image with dimensions 34x34x3. The possible size of filters can be axax3, where ‘a’ can be anything like 3, 5, or 7 but smaller as compared to the image dimension. During the forward pass, we slide each filter across the whole input volume step by step where each step is called stride (which can have a value of 2, 3, or even 4 for high-dimensional images) and compute the dot product between the kernel weights and patch from input volume. As we slide our filters we’ll get a 2-D output for each filter and we’ll stack them together as a result, we’ll get output volume having a depth equal to the number of filters. The network will learn all the filters.\n",
        "\n",
        "Code for CNNs: from keras.models import Sequential from keras.layers import Conv2D, MaxPooling2D, Flatten, Dense\n",
        "\n",
        "Define the CNN model\n",
        "\n",
        "model = Sequential() model.add(Conv2D(32, (3, 3), activation=’relu’, input_shape=(224, 224, 3))) model.add(MaxPooling2D((2, 2))) model.add(Conv2D(64 , (3, 3), activation=’relu’)) model.add(MaxPooling2D((2,2))) model.add(Conv2d(128, (3, 3), activation=’relu’)) model.add(MaxPooling2D((2, 2))) model.add(Flatten()) model.add(Dense(128, activation=’relu’)) model.add(Dense(10, activation=’softmax’))\n",
        "\n",
        "Compile the model\n",
        "\n",
        "model.compile(optimizer=’adam’, loss=’categorical_crossentropy’, metrics=[‘accuracy’])"
      ],
      "metadata": {
        "id": "uyQF47Kf5t2k"
      }
    },
    {
      "cell_type": "code",
      "source": [
        "import tensorflow as tf\n",
        "from tensorflow.keras.datasets import mnist\n",
        "from tensorflow.keras.models import Sequential\n",
        "from tensorflow.keras.layers import Conv2D, MaxPooling2D, Flatten, Dense\n",
        "\n",
        "# Load and preprocess dataset\n",
        "(x_train, y_train), (x_test, y_test) = mnist.load_data()\n",
        "x_train, x_test = x_train / 255.0, x_test / 255.0\n",
        "\n",
        "# Reshape data for CNN (add channel dimension)\n",
        "x_train = x_train.reshape(x_train.shape[0], 28, 28, 1)\n",
        "x_test = x_test.reshape(x_test.shape[0], 28, 28, 1)\n",
        "\n",
        "# Define the CNN model\n",
        "model = Sequential([\n",
        "    Conv2D(32, kernel_size=(3, 3), activation='relu', input_shape=(28, 28, 1)),\n",
        "    MaxPooling2D(pool_size=(2, 2)),\n",
        "    Flatten(),\n",
        "    Dense(128, activation='relu'),\n",
        "    Dense(10, activation='softmax')\n",
        "])\n",
        "\n",
        "# Compile the model\n",
        "model.compile(optimizer='adam',\n",
        "              loss='sparse_categorical_crossentropy',\n",
        "              metrics=['accuracy'])\n",
        "\n",
        "# Train the model\n",
        "model.fit(x_train, y_train, epochs=5, validation_data=(x_test, y_test))\n",
        "\n",
        "# Evaluate the model\n",
        "loss, accuracy = model.evaluate(x_test, y_test)\n",
        "print(f'Test loss: {loss:.4f}')\n",
        "print(f'Test accuracy: {accuracy:.4f}')\n",
        "\n",
        "# Save the model\n",
        "model.save('mnist_cnn_model.h5')"
      ],
      "metadata": {
        "colab": {
          "base_uri": "https://localhost:8080/"
        },
        "id": "QAPC4ZT-1YzQ",
        "outputId": "2e6d8a43-45e3-41d0-e05d-bc9e6fe51011"
      },
      "execution_count": null,
      "outputs": [
        {
          "output_type": "stream",
          "name": "stdout",
          "text": [
            "Downloading data from https://storage.googleapis.com/tensorflow/tf-keras-datasets/mnist.npz\n",
            "11490434/11490434 [==============================] - 0s 0us/step\n",
            "Epoch 1/5\n",
            "1875/1875 [==============================] - 43s 22ms/step - loss: 0.1472 - accuracy: 0.9569 - val_loss: 0.0679 - val_accuracy: 0.9775\n",
            "Epoch 2/5\n",
            "1875/1875 [==============================] - 37s 20ms/step - loss: 0.0513 - accuracy: 0.9847 - val_loss: 0.0462 - val_accuracy: 0.9848\n",
            "Epoch 3/5\n",
            "1875/1875 [==============================] - 37s 20ms/step - loss: 0.0332 - accuracy: 0.9900 - val_loss: 0.0473 - val_accuracy: 0.9840\n",
            "Epoch 4/5\n",
            "1875/1875 [==============================] - 34s 18ms/step - loss: 0.0222 - accuracy: 0.9929 - val_loss: 0.0445 - val_accuracy: 0.9849\n",
            "Epoch 5/5\n",
            "1875/1875 [==============================] - 37s 20ms/step - loss: 0.0149 - accuracy: 0.9950 - val_loss: 0.0455 - val_accuracy: 0.9860\n",
            "313/313 [==============================] - 2s 7ms/step - loss: 0.0455 - accuracy: 0.9860\n",
            "Test loss: 0.0455\n",
            "Test accuracy: 0.9860\n"
          ]
        },
        {
          "output_type": "stream",
          "name": "stderr",
          "text": [
            "/usr/local/lib/python3.10/dist-packages/keras/src/engine/training.py:3103: UserWarning: You are saving your model as an HDF5 file via `model.save()`. This file format is considered legacy. We recommend using instead the native Keras format, e.g. `model.save('my_model.keras')`.\n",
            "  saving_api.save_model(\n"
          ]
        }
      ]
    },
    {
      "cell_type": "markdown",
      "source": [
        "Recurrent Neural Networks(RNNs):\n",
        "● What is Recurrent Neural Network (RNN)?\n",
        "\n",
        "Recurrent Neural Network(RNN) is a type of Neural Network where the output from the previous step is fed as input to the current step. In traditional neural networks, all the inputs and outputs are independent of each other. Still, in cases when it is required to predict the next word of a sentence, the previous words are required and hence there is a need to remember the previous words. Thus RNN came into existence, which solved this issue with the help of a Hidden Layer. The main and most important feature of RNN is its Hidden state, which remembers some information about a sequence. The state is also referred to as Memory State since it remembers the previous input to the network. It uses the same parameters for each input as it performs the same task on all the inputs or hidden layers to produce the output. This reduces the complexity of parameters, unlike other neural networks.\n",
        "\n",
        "● Types of Recurrent Neural Network:\n",
        "\n",
        "One to One: This type of RNN behaves the same as any simple Neural network it is also known as Vanilla Neural Network. In this Neural network, there is only one input and one output.\n",
        "One To Many: In this type of RNN, there is one input and many outputs associated with it. One of the most used examples of this network is Image captioning where given an image we predict a sentence having Multiple words.\n",
        "Many to One: In this type of network, Many inputs are fed to the network at several states of the network generating only one output. This type of network is used in the problems like sentimental analysis. Where we give multiple words as input and predict only the sentiment of the sentence as output.\n",
        "Many to Many: In this type of neural network, there are multiple inputs and multiple outputs corresponding to a problem. One Example of this Problem will be language translation. In language translation, we provide multiple words from one language as input and predict multiple words from the second language as output. Code for RNNs: From keras.models import Sequential From keras.layers import Embedding, LSTM, Dense\n",
        "Define the RNN model\n",
        "\n",
        "model = Sequential() model.add(Embedding(input_dim=10000,output_dim=128, input_length=max_length)) model.add(LSTM(128, dropout=0.2, recurrent_dropout=0.2)) model.add(Dense(64, activation=‘relu’)) model.add(Dense(10, activation=‘softmax’))\n",
        "\n",
        "Compile the model\n",
        "\n",
        "model.compile(loss=‘categorical_crossentropy’, optimizer=’adam’, metrics=[‘accuracy’]"
      ],
      "metadata": {
        "id": "2995UYwf5-h2"
      }
    },
    {
      "cell_type": "code",
      "source": [
        "import tensorflow as tf\n",
        "from tensorflow.keras import layers, models\n",
        "from tensorflow.keras.datasets import mnist\n",
        "import numpy as np\n",
        "import matplotlib.pyplot as plt\n",
        "\n",
        "# Load and preprocess the data\n",
        "(x_train, y_train), (x_test, y_test) = mnist.load_data()\n",
        "x_train, x_test = x_train / 255.0, x_test / 255.0\n",
        "\n",
        "# Reshape data to fit RNN model (28 time steps, 28 features)\n",
        "x_train = x_train.reshape((x_train.shape[0], 28, 28))\n",
        "x_test = x_test.reshape((x_test.shape[0], 28, 28))\n",
        "\n",
        "# Build the RNN model\n",
        "model = models.Sequential([\n",
        "    layers.SimpleRNN(128, input_shape=(28, 28), return_sequences=True),\n",
        "    layers.SimpleRNN(64),\n",
        "    layers.Dense(10, activation='softmax')\n",
        "])\n",
        "\n",
        "# Compile the model\n",
        "model.compile(optimizer='adam',\n",
        "              loss='sparse_categorical_crossentropy',\n",
        "              metrics=['accuracy'])\n",
        "\n",
        "# Train the model\n",
        "history = model.fit(x_train, y_train, epochs=5,\n",
        "                    validation_data=(x_test, y_test))\n",
        "\n",
        "# Evaluate the model\n",
        "test_loss, test_acc = model.evaluate(x_test, y_test)\n",
        "print(\"Test accuracy:\", test_acc)\n",
        "\n",
        "# Plot training history\n",
        "plt.plot(history.history['accuracy'], label='accuracy')\n",
        "plt.plot(history.history['val_accuracy'], label = 'val_accuracy')\n",
        "plt.xlabel('Epoch')\n",
        "plt.ylabel('Accuracy')\n",
        "plt.ylim([0, 1])\n",
        "plt.legend(loc='lower right')\n",
        "plt.show()"
      ],
      "metadata": {
        "colab": {
          "base_uri": "https://localhost:8080/",
          "height": 683
        },
        "id": "RzqX-HPE6Lt3",
        "outputId": "76ad3576-ed91-49fc-e6f6-6418c21dd70f"
      },
      "execution_count": null,
      "outputs": [
        {
          "output_type": "stream",
          "name": "stdout",
          "text": [
            "Epoch 1/5\n",
            "1875/1875 [==============================] - 33s 17ms/step - loss: 0.3515 - accuracy: 0.8951 - val_loss: 0.2703 - val_accuracy: 0.9160\n",
            "Epoch 2/5\n",
            "1875/1875 [==============================] - 30s 16ms/step - loss: 0.2028 - accuracy: 0.9413 - val_loss: 0.2625 - val_accuracy: 0.9167\n",
            "Epoch 3/5\n",
            "1875/1875 [==============================] - 30s 16ms/step - loss: 0.1714 - accuracy: 0.9508 - val_loss: 0.1492 - val_accuracy: 0.9561\n",
            "Epoch 4/5\n",
            "1875/1875 [==============================] - 30s 16ms/step - loss: 0.1628 - accuracy: 0.9532 - val_loss: 0.1780 - val_accuracy: 0.9499\n",
            "Epoch 5/5\n",
            "1875/1875 [==============================] - 30s 16ms/step - loss: 0.1519 - accuracy: 0.9565 - val_loss: 0.1640 - val_accuracy: 0.9540\n",
            "313/313 [==============================] - 3s 8ms/step - loss: 0.1640 - accuracy: 0.9540\n",
            "Test accuracy: 0.9539999961853027\n"
          ]
        },
        {
          "output_type": "display_data",
          "data": {
            "text/plain": [
              "<Figure size 640x480 with 1 Axes>"
            ],
            "image/png": "[encoded data removed]"
          },
          "metadata": {}
        }
      ]
    },
    {
      "cell_type": "markdown",
      "source": [
        "Transformers:\n",
        "Transformers are a type of neural network architecture introduced in the paper \"Attention is All You Need\" by Vaswani et al. They rely hugely on a mechanism called self-attention to process input data. Unlike traditional recurrent neural networks (RNNs), transformers do not require sequential data processing, which allows for more parallelization and thus faster training times.\n",
        "\n",
        "● Key Components then concatenates the results. This allows the model to jointly attend to\n",
        "\n",
        "Self-Attention Mechanism: This allows the model to weigh the importance of different words in a sentence relative to each other. It computes a set of attention scores for each word in the context of all other words in the sequence.\n",
        "Multi-Head Attention: Instead of calculating attention once, the model does this multiple times with different linear transformations and\n",
        "information from different representation subspaces. 3. Positional Encoding: Since transformers do not process the input sequence in order, positional encoding is used to provide information about the position of each word within the sequence. 4. Feed-Forward Neural Networks: After the attention layers, the data passes through a feed-forward neural network, applied independently to each position. 5. Layer Normalization: Normalization is applied after each sub-layer (attention and feed-forward) to stabilize and accelerate the training. 6. Residual Connections: Shortcut connections are used around each sub-layer to help gradients flow through the network, mitigating the vanishing gradient problem. Code for Transformers: from keras.models import Model from keras.layers import Input, Embedding, MultiHeadAttention, Dropout, LayerNormalization\n",
        "\n",
        "Define the input shape\n",
        "\n",
        "input_shape = (None, 512) # sequence length, embedding dimension\n",
        "\n",
        "Define the embedding layer\n",
        "\n",
        "input_layer = Input(shape=input_shape) embedding_layer = Embedding(input_dim=10000, output_dim=512, input_length=input_shape[0])(input_layer)\n",
        "\n",
        "Define the encoder layer\n",
        "\n",
        "encoder_layer = TransformerEncoderLayer(d_model=512, nhead=8, dim_feedforward=2048, dropout=0.1) encoder_output = encoder_layer(embedding_layer)\n",
        "\n",
        "Define the decoder layer\n",
        "\n",
        "decoder_layer = TransformerDecoderLayer(d_model=512, nhead=8, dim_feedforward=2048, dropout=0.1) decoder_output = decoder_layer(encoder_output)\n",
        "\n",
        "Define the output layer\n",
        "\n",
        "output_layer = Dense(10, activation='softmax')(decoder_output)\n",
        "\n",
        "Define the model\n",
        "\n",
        "model = Model(inputs=input_layer, outputs=output_layer)\n",
        "\n",
        "Compile the model\n",
        "\n",
        "model.compile(optimizer='adam', loss='categorical_crossentropy', metrics=['accuracy'])"
      ],
      "metadata": {
        "id": "s57dfCm76M2I"
      }
    },
    {
      "cell_type": "code",
      "source": [
        "import tensorflow as tf\n",
        "from tensorflow.keras import layers, models\n",
        "from tensorflow.keras.datasets import mnist\n",
        "import numpy as np\n",
        "import matplotlib.pyplot as plt\n",
        "\n",
        "# Load and preprocess the MNIST dataset\n",
        "(x_train, y_train), (x_test, y_test) = mnist.load_data()\n",
        "x_train = x_train.astype('float32') / 255.0\n",
        "x_test = x_test.astype('float32') / 255.0\n",
        "\n",
        "# Reshape the data to fit the model (batch_size, seq_len, embedding_dim)\n",
        "def create_patches(images, patch_size):\n",
        "    batch_size, img_height, img_width = images.shape\n",
        "    patches = tf.image.extract_patches(\n",
        "        images=images[..., tf.newaxis],\n",
        "        sizes=[1, patch_size, patch_size, 1],\n",
        "        strides=[1, patch_size, patch_size, 1],\n",
        "        rates=[1, 1, 1, 1],\n",
        "        padding='VALID'\n",
        "    )\n",
        "    patches = tf.reshape(patches, [batch_size, -1, patch_size * patch_size])\n",
        "    return patches\n",
        "\n",
        "patch_size = 7\n",
        "num_patches = (28 // patch_size) ** 2\n",
        "\n",
        "x_train_patches = create_patches(x_train, patch_size)\n",
        "x_test_patches = create_patches(x_test, patch_size)\n",
        "\n",
        "# Build the transformer model\n",
        "class TransformerBlock(layers.Layer):\n",
        "    def __init__(self, embed_dim, num_heads, ff_dim, rate=0.1):\n",
        "        super(TransformerBlock, self).__init__()\n",
        "        self.att = layers.MultiHeadAttention(num_heads=num_heads, key_dim=embed_dim)\n",
        "        self.ffn = models.Sequential(\n",
        "            [layers.Dense(ff_dim, activation=\"relu\"), layers.Dense(embed_dim)]\n",
        "        )\n",
        "        self.layernorm1 = layers.LayerNormalization(epsilon=1e-6)\n",
        "        self.layernorm2 = layers.LayerNormalization(epsilon=1e-6)\n",
        "        self.dropout1 = layers.Dropout(rate)\n",
        "        self.dropout2 = layers.Dropout(rate)\n",
        "\n",
        "    def call(self, inputs, training):\n",
        "        attn_output = self.att(inputs, inputs)\n",
        "        attn_output = self.dropout1(attn_output, training=training)\n",
        "        out1 = self.layernorm1(inputs + attn_output)\n",
        "        ffn_output = self.ffn(out1)\n",
        "        ffn_output = self.dropout2(ffn_output, training=training)\n",
        "        return self.layernorm2(out1 + ffn_output)\n",
        "\n",
        "class TokenAndPositionEmbedding(layers.Layer):\n",
        "    def __init__(self, num_patches, embed_dim):\n",
        "        super(TokenAndPositionEmbedding, self).__init__()\n",
        "        self.position_embedding = layers.Embedding(\n",
        "            input_dim=num_patches, output_dim=embed_dim\n",
        "        )\n",
        "        self.dense = layers.Dense(embed_dim)\n",
        "\n",
        "    def call(self, x):\n",
        "        positions = tf.range(start=0, limit=num_patches, delta=1)\n",
        "        embedded_positions = self.position_embedding(positions)\n",
        "        x = self.dense(x)\n",
        "        return x + embedded_positions\n",
        "\n",
        "embed_dim = 64\n",
        "num_heads = 4\n",
        "ff_dim = 128\n",
        "\n",
        "inputs = layers.Input(shape=(num_patches, patch_size * patch_size))\n",
        "embedding_layer = TokenAndPositionEmbedding(num_patches, embed_dim)\n",
        "x = embedding_layer(inputs)\n",
        "transformer_block = TransformerBlock(embed_dim, num_heads, ff_dim)\n",
        "x = transformer_block(x)\n",
        "x = layers.GlobalAveragePooling1D()(x)\n",
        "x = layers.Dropout(0.1)(x)\n",
        "x = layers.Dense(64, activation=\"relu\")(x)\n",
        "x = layers.Dropout(0.1)(x)\n",
        "outputs = layers.Dense(10, activation=\"softmax\")(x)\n",
        "\n",
        "model = models.Model(inputs=inputs, outputs=outputs)\n",
        "\n",
        "# Compile and train the model\n",
        "model.compile(optimizer='adam', loss='sparse_categorical_crossentropy', metrics=['accuracy'])\n",
        "\n",
        "history = model.fit(x_train_patches, y_train, epochs=10, batch_size=64, validation_data=(x_test_patches, y_test))\n",
        "\n",
        "# Evaluate the model\n",
        "test_loss, test_acc = model.evaluate(x_test_patches, y_test)\n",
        "print(\"Test accuracy:\", test_acc)\n",
        "\n",
        "# Plot training history\n",
        "plt.plot(history.history['accuracy'], label='accuracy')\n",
        "plt.plot(history.history['val_accuracy'], label = 'val_accuracy')\n",
        "plt.xlabel('Epoch')\n",
        "plt.ylabel('Accuracy')\n",
        "plt.ylim([0, 1])\n",
        "plt.legend(loc='lower right')\n",
        "plt.show()"
      ],
      "metadata": {
        "colab": {
          "base_uri": "https://localhost:8080/",
          "height": 857
        },
        "id": "49EHti3y6Sjg",
        "outputId": "18b73955-c73d-4337-d7d7-9263b935a1d2"
      },
      "execution_count": null,
      "outputs": [
        {
          "output_type": "stream",
          "name": "stdout",
          "text": [
            "Epoch 1/10\n",
            "938/938 [==============================] - 36s 35ms/step - loss: 0.7340 - accuracy: 0.7571 - val_loss: 0.2886 - val_accuracy: 0.9093\n",
            "Epoch 2/10\n",
            "938/938 [==============================] - 33s 35ms/step - loss: 0.2713 - accuracy: 0.9163 - val_loss: 0.1925 - val_accuracy: 0.9392\n",
            "Epoch 3/10\n",
            "938/938 [==============================] - 31s 33ms/step - loss: 0.2109 - accuracy: 0.9345 - val_loss: 0.1802 - val_accuracy: 0.9462\n",
            "Epoch 4/10\n",
            "938/938 [==============================] - 32s 34ms/step - loss: 0.1824 - accuracy: 0.9441 - val_loss: 0.1484 - val_accuracy: 0.9539\n",
            "Epoch 5/10\n",
            "938/938 [==============================] - 31s 33ms/step - loss: 0.1578 - accuracy: 0.9506 - val_loss: 0.1666 - val_accuracy: 0.9486\n",
            "Epoch 6/10\n",
            "938/938 [==============================] - 32s 34ms/step - loss: 0.1438 - accuracy: 0.9550 - val_loss: 0.1308 - val_accuracy: 0.9595\n",
            "Epoch 7/10\n",
            "938/938 [==============================] - 31s 33ms/step - loss: 0.1308 - accuracy: 0.9592 - val_loss: 0.1339 - val_accuracy: 0.9582\n",
            "Epoch 8/10\n",
            "938/938 [==============================] - 32s 35ms/step - loss: 0.1236 - accuracy: 0.9603 - val_loss: 0.1108 - val_accuracy: 0.9650\n",
            "Epoch 9/10\n",
            "938/938 [==============================] - 32s 35ms/step - loss: 0.1151 - accuracy: 0.9637 - val_loss: 0.1154 - val_accuracy: 0.9639\n",
            "Epoch 10/10\n",
            "938/938 [==============================] - 32s 35ms/step - loss: 0.1076 - accuracy: 0.9665 - val_loss: 0.1083 - val_accuracy: 0.9688\n",
            "313/313 [==============================] - 2s 6ms/step - loss: 0.1083 - accuracy: 0.9688\n",
            "Test accuracy: 0.9688000082969666\n"
          ]
        },
        {
          "output_type": "display_data",
          "data": {
            "text/plain": [
              "<Figure size 640x480 with 1 Axes>"
            ],
            "image/png": "[encoded data removed]"
          },
          "metadata": {}
        }
      ]
    }
  ]
}